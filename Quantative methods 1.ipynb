{
  "cells": [
    {
      "cell_type": "markdown",
      "metadata": {
        "id": "view-in-github",
        "colab_type": "text"
      },
      "source": [
        "<a href=\"https://colab.research.google.com/github/tazar09/CFA_EvelynLinn/blob/master/Quantative%20methods%201.ipynb\" target=\"_parent\"><img src=\"https://colab.research.google.com/assets/colab-badge.svg\" alt=\"Open In Colab\"/></a>"
      ]
    },
    {
      "cell_type": "code",
      "source": [
        "import numpy_financial as npf\n",
        "import QuantLib as ql\n",
        "import pandas as pd\n",
        "import numpy as np\n",
        "import matplotlib.pyplot as plt\n",
        "import seaborn as sns\n",
        "import scipy"
      ],
      "metadata": {
        "id": "vnUcmCBnilsJ"
      },
      "execution_count": null,
      "outputs": []
    },
    {
      "cell_type": "code",
      "source": [
        "\n",
        "# Cash flows from a real estate project\n",
        "cash_flows = [-100000, 20000, 25000, 30000, 35000, 40000]\n",
        "\n",
        "# Net Present Value (NPV) at 8% discount rate\n",
        "npv = npf.npv(0.08, cash_flows)\n",
        "print(\"NPV:\", round(npv, 2))\n",
        "\n",
        "# Internal Rate of Return (IRR)\n",
        "irr = npf.irr(cash_flows)\n",
        "print(\"IRR:\", round(irr*100, 2), \"%\")"
      ],
      "metadata": {
        "colab": {
          "base_uri": "https://localhost:8080/"
        },
        "id": "C-63CdQ_NzpB",
        "outputId": "4685f461-2421-4436-99ee-81a38f5d7a1b"
      },
      "execution_count": null,
      "outputs": [
        {
          "output_type": "stream",
          "name": "stdout",
          "text": [
            "NPV: 16716.33\n",
            "IRR: 13.45 %\n"
          ]
        }
      ]
    },
    {
      "cell_type": "code",
      "source": [
        "# Example of Annualized Holding Period Return (HPR)\n",
        "\n",
        "# Initial investment value\n",
        "initial_value = 1000\n",
        "\n",
        "# Final investment value\n",
        "final_value = 1200\n",
        "\n",
        "# Any income received during the holding period (e.g., dividends)\n",
        "income = 50\n",
        "\n",
        "# Number of years the investment was held\n",
        "years = 2 # Assuming the holding period was 2 years\n",
        "\n",
        "# Calculate Holding Period Return (HPR)\n",
        "hpr = (final_value - initial_value + income) / initial_value\n",
        "\n",
        "# Calculate Annualized Holding Period Return (Annualized HPR)\n",
        "annualized_hpr = (1 + hpr)**(1/years) - 1\n",
        "\n",
        "print(\"Initial Value:\", initial_value)\n",
        "print(\"Final Value:\", final_value)\n",
        "print(\"Income:\", income)\n",
        "print(\"Holding Period Return (HPR):\", round(hpr * 100, 2), \"%\")\n",
        "print(\"Annualized Holding Period Return (Annualized HPR):\", round(annualized_hpr * 100, 2), \"%\")"
      ],
      "metadata": {
        "colab": {
          "base_uri": "https://localhost:8080/"
        },
        "id": "_U90idYfnJ43",
        "outputId": "a4046476-bc92-4ab6-e2ac-b8f3282521b9"
      },
      "execution_count": 2,
      "outputs": [
        {
          "output_type": "stream",
          "name": "stdout",
          "text": [
            "Initial Value: 1000\n",
            "Final Value: 1200\n",
            "Income: 50\n",
            "Holding Period Return (HPR): 25.0 %\n",
            "Annualized Holding Period Return (Annualized HPR): 11.8 %\n"
          ]
        }
      ]
    },
    {
      "cell_type": "code",
      "source": [],
      "metadata": {
        "id": "a3MReBSWnJ7y"
      },
      "execution_count": null,
      "outputs": []
    },
    {
      "cell_type": "code",
      "source": [],
      "metadata": {
        "id": "zoDF2GesnJ-y"
      },
      "execution_count": null,
      "outputs": []
    },
    {
      "cell_type": "code",
      "source": [],
      "metadata": {
        "id": "XLu9W02gnKBq"
      },
      "execution_count": null,
      "outputs": []
    },
    {
      "cell_type": "code",
      "source": [],
      "metadata": {
        "id": "98N9ejn-nKEX"
      },
      "execution_count": null,
      "outputs": []
    },
    {
      "cell_type": "code",
      "source": [],
      "metadata": {
        "id": "8pj5IHefnyjU"
      },
      "execution_count": null,
      "outputs": []
    },
    {
      "cell_type": "code",
      "source": [],
      "metadata": {
        "id": "HSqlC2R9nymU"
      },
      "execution_count": null,
      "outputs": []
    },
    {
      "cell_type": "code",
      "source": [],
      "metadata": {
        "id": "snqKAZiGnypM"
      },
      "execution_count": null,
      "outputs": []
    },
    {
      "cell_type": "code",
      "source": [],
      "metadata": {
        "id": "ZbvN2ju_nyr9"
      },
      "execution_count": null,
      "outputs": []
    },
    {
      "cell_type": "code",
      "source": [],
      "metadata": {
        "id": "VJRKExxrnyua"
      },
      "execution_count": null,
      "outputs": []
    }
  ],
  "metadata": {
    "colab": {
      "provenance": [],
      "authorship_tag": "ABX9TyNv355N6dOaP20isittmC9O",
      "include_colab_link": true
    },
    "kernelspec": {
      "display_name": "Python 3",
      "name": "python3"
    },
    "language_info": {
      "name": "python"
    }
  },
  "nbformat": 4,
  "nbformat_minor": 0
}